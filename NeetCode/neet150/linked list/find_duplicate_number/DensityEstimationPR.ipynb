{
 "cells": [
  {
   "cell_type": "markdown",
   "id": "6a85914b-0187-4b32-86ad-9044dde4c5ce",
   "metadata": {},
   "source": [
    "# Density Estimation in Pattern Recognition: Non-Parametric Methods\n",
    "\n",
    "- Synthetic data (1D and 2D)\n",
    "- Histogram baseline\n",
    "- KDE/Parzen with multiple kernels\n",
    "- Bandwidth selection: Silverman & CV\n",
    "- kNN density estimation (1D & 2D)\n",
    "- Plug-in classifier demo (class-wise KDE)"
   ]
  },
  {
   "cell_type": "code",
   "execution_count": null,
   "id": "b4a42e48",
   "metadata": {},
   "outputs": [],
   "source": [
    "import numpy as np\n",
    "import matplotlib.pyplot as plt\n",
    "from sklearn.neighbors import KernelDensity, NearestNeighbors\n",
    "from sklearn.model_selection import GridSearchCV, KFold\n",
    "np.random.seed(42)\n",
    "print('Libraries imported.')"
   ]
  },
  {
   "cell_type": "markdown",
   "id": "58ab0dab",
   "metadata": {},
   "source": [
    "## 1. Synthetic Data (1D)\n",
    "A bimodal 1D mixture for demonstrating model bias/variance."
   ]
  },
  {
   "cell_type": "code",
   "execution_count": null,
   "id": "ab6098cf",
   "metadata": {},
   "outputs": [],
   "source": [
    "n = 600\n",
    "g2mix = np.random.rand(n) < 0.5 #Mixture of 2 Gaussains\n",
    "x = np.empty(n)\n",
    "x[g2mix] = np.random.normal(loc=-2.0, scale=0.6, size=g2mix.sum())\n",
    "x[~g2mix] = np.random.normal(loc=1.8, scale=0.9, size=(~g2mix).sum())\n",
    "x = x.reshape(-1, 1)\n",
    "#y = np.zeros_like(x)\n",
    "y = np.random.rand(len(x)) * 0.2 - 0.1 # Small random values around 0\n",
    "print('1D data shape:', x.shape)\n",
    "\n",
    "plt.figure()\n",
    "plt.scatter(x, y,alpha=0.3)\n",
    "plt.ylim(bottom=-0.7, top=0.7)\n",
    "plt.xlim(xmin=-10, xmax=10)\n",
    "plt.xlabel('x'); plt.title('1D point spread on x-axis')\n",
    "plt.show()"
   ]
  },
  {
   "cell_type": "markdown",
   "id": "1a400ef4",
   "metadata": {},
   "source": [
    "## 3. Histogram Density (Baseline)"
   ]
  },
  {
   "cell_type": "code",
   "execution_count": null,
   "id": "9f6db427",
   "metadata": {},
   "outputs": [],
   "source": [
    "plt.figure()\n",
    "plt.hist(x.ravel(), bins=30, density=True, edgecolor='black')\n",
    "plt.xlabel('x'); plt.ylabel('density'); plt.title('Histogram (bins=30)')\n",
    "plt.show()"
   ]
  },
  {
   "cell_type": "markdown",
   "id": "fa94e6ae",
   "metadata": {},
   "source": [
    "## 4. Parzen / KDE (1D): Kernels and Bandwidth"
   ]
  },
  {
   "cell_type": "code",
   "execution_count": null,
   "id": "34cf914b",
   "metadata": {},
   "outputs": [],
   "source": [
    "kernels = ['gaussian', 'tophat', 'epanechnikov']\n",
    "bandwidths = [0.1, 0.3, 0.6, 1.0]\n",
    "X_plot = np.linspace(x.min()-3, x.max()+3, 400).reshape(-1, 1)\n",
    "for ker in kernels:\n",
    "    for bw in bandwidths:\n",
    "        kde = KernelDensity(kernel=ker, bandwidth=bw).fit(x)\n",
    "        dens = np.exp(kde.score_samples(X_plot))\n",
    "        plt.figure()\n",
    "        plt.hist(x.ravel(), bins=30, density=True, alpha=0.3, edgecolor='black')\n",
    "        plt.plot(X_plot, dens)\n",
    "        plt.title(f'KDE kernel={ker}, h={bw}')\n",
    "        plt.xlabel('x'); plt.ylabel('density')\n",
    "        plt.show()"
   ]
  },
  {
   "cell_type": "markdown",
   "id": "8a040e37",
   "metadata": {},
   "source": [
    "## 5. Bandwidth Selection (1D): Silverman"
   ]
  },
  {
   "cell_type": "code",
   "execution_count": null,
   "id": "d6da0b4c",
   "metadata": {},
   "outputs": [],
   "source": [
    "def silverman_bandwidth(x1d):\n",
    "    sigma = np.std(x1d, ddof=1)\n",
    "    n = len(x1d)\n",
    "    return 1.06 * sigma * n ** (-1/5)\n",
    "\n",
    "h_silv = silverman_bandwidth(x.ravel())\n",
    "params = {'bandwidth': np.linspace(max(0.05, 0.3*h_silv), 2.5*h_silv, 15)}\n",
    "#grid = GridSearchCV(KernelDensity(kernel='gaussian'), params,\n",
    "                   #cv=KFold(n_splits=5, shuffle=True, random_state=0))\n",
    "#grid.fit(x)\n",
    "#best_bw = grid.best_params_['bandwidth']\n",
    "print('Silverman h:', h_silv)\n",
    "\n",
    "bw, label = [h_silv,'Silverman']\n",
    "kde = KernelDensity(kernel='gaussian', bandwidth=bw).fit(x)\n",
    "dens = np.exp(kde.score_samples(X_plot))\n",
    "plt.figure()\n",
    "plt.hist(x.ravel(), bins=30, density=True, alpha=0.3, edgecolor='black')\n",
    "plt.plot(X_plot, dens)\n",
    "plt.title(f'Gaussian KDE with {label} h={bw:.3f}')\n",
    "plt.xlabel('x'); plt.ylabel('density')\n",
    "plt.show()"
   ]
  },
  {
   "cell_type": "markdown",
   "id": "0827cad0",
   "metadata": {},
   "source": [
    "## 6. k-Nearest Neighbor Density (1D)"
   ]
  },
  {
   "cell_type": "code",
   "execution_count": null,
   "id": "4ad4727c",
   "metadata": {},
   "outputs": [],
   "source": [
    "from sklearn.neighbors import NearestNeighbors\n",
    "def knn_density_1d(x_train, x_eval, k=15):\n",
    "    nbrs = NearestNeighbors(n_neighbors=k).fit(x_train)\n",
    "    dists, _ = nbrs.kneighbors(x_eval)\n",
    "    r_k = dists[:, -1]\n",
    "    V_k = 2 * r_k  # 1D interval length\n",
    "    n = len(x_train)\n",
    "    return k / (n * V_k)\n",
    "\n",
    "for k in [3, 10, 30, 100]:\n",
    "    dens_knn = knn_density_1d(x, X_plot, k=k)\n",
    "    plt.figure()\n",
    "    plt.hist(x.ravel(), bins=30, density=True, alpha=0.3, edgecolor='black')\n",
    "    plt.plot(X_plot, dens_knn)\n",
    "    plt.title(f'kNN density (k={k})')\n",
    "    plt.xlabel('x'); plt.ylabel('density')\n",
    "    plt.show()"
   ]
  },
  {
   "cell_type": "code",
   "execution_count": null,
   "id": "6f26d681-061b-4e9b-a79e-37f296cb143b",
   "metadata": {},
   "outputs": [],
   "source": []
  }
 ],
 "metadata": {
  "kernelspec": {
   "display_name": "Python 3 (ipykernel)",
   "language": "python",
   "name": "python3"
  },
  "language_info": {
   "codemirror_mode": {
    "name": "ipython",
    "version": 3
   },
   "file_extension": ".py",
   "mimetype": "text/x-python",
   "name": "python",
   "nbconvert_exporter": "python",
   "pygments_lexer": "ipython3",
   "version": "3.11.5"
  }
 },
 "nbformat": 4,
 "nbformat_minor": 5
}
